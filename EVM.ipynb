{
 "cells": [
  {
   "cell_type": "code",
   "execution_count": 68,
   "metadata": {
    "id": "Kw5ugj1sNEBp"
   },
   "outputs": [],
   "source": [
    "import cv2\n",
    "import numpy as np\n",
    "import scipy.signal as signal\n",
    "import scipy.fftpack as fftpack"
   ]
  },
  {
   "cell_type": "code",
   "execution_count": 69,
   "metadata": {
    "id": "iZMxJRqVNTIG"
   },
   "outputs": [],
   "source": [
    "#Build Gaussian Pyramid\n",
    "def build_gaussian_pyramid(src,level=10):\n",
    "    s=src.copy()\n",
    "    pyramid=[s]\n",
    "    for i in range(level):\n",
    "        s=cv2.pyrDown(s)\n",
    "        pyramid.append(s)\n",
    "    return pyramid"
   ]
  },
  {
   "cell_type": "code",
   "execution_count": 70,
   "metadata": {
    "id": "WeKKmVgtNWuG"
   },
   "outputs": [],
   "source": [
    "#Build Laplacian Pyramid\n",
    "def build_laplacian_pyramid(src,levels=7):\n",
    "    gaussianPyramid = build_gaussian_pyramid(src, levels)\n",
    "    pyramid=[]\n",
    "    for i in range(levels,0,-1):\n",
    "        GE=cv2.pyrUp(gaussianPyramid[i])\n",
    "        L=cv2.subtract(gaussianPyramid[i-1],GE)\n",
    "        pyramid.append(L)\n",
    "    return pyramid"
   ]
  },
  {
   "cell_type": "code",
   "execution_count": 71,
   "metadata": {
    "id": "M_fl4vM6NZAL"
   },
   "outputs": [],
   "source": [
    "#load video from file\n",
    "def load_video(video_filename):\n",
    "    cap=cv2.VideoCapture(video_filename)\n",
    "    frame_count = int(cap.get(cv2.CAP_PROP_FRAME_COUNT))\n",
    "    print(frame_count)\n",
    "    width, height = int(cap.get(cv2.CAP_PROP_FRAME_WIDTH)),int(cap.get(cv2.CAP_PROP_FRAME_HEIGHT))\n",
    "    fps = int(cap.get(cv2.CAP_PROP_FPS))\n",
    "    print(fps)\n",
    "    video_tensor=np.zeros((frame_count,height,width,3),dtype='float')\n",
    "    x=0\n",
    "    while cap.isOpened():\n",
    "        ret,frame=cap.read()\n",
    "        if ret is True:\n",
    "            video_tensor[x]=frame\n",
    "            x+=1\n",
    "        else:\n",
    "            break\n",
    "    return video_tensor,fps"
   ]
  },
  {
   "cell_type": "code",
   "execution_count": 72,
   "metadata": {
    "id": "vHN8W0FKNckt"
   },
   "outputs": [],
   "source": [
    "# apply temporal ideal bandpass filter to gaussian video\n",
    "def temporal_ideal_filter(tensor,low,high,fps,axis=0):\n",
    "    fft=fftpack.fft(tensor,axis=axis)\n",
    "    frequencies = fftpack.fftfreq(tensor.shape[0], d=1.0 / fps)\n",
    "    bound_low = (np.abs(frequencies - low)).argmin()\n",
    "    bound_high = (np.abs(frequencies - high)).argmin()\n",
    "    fft[:bound_low] = 0\n",
    "    fft[bound_high:-bound_high] = 0\n",
    "    fft[-bound_low:] = 0\n",
    "    iff=fftpack.ifft(fft, axis=axis)\n",
    "    return np.abs(iff)\n"
   ]
  },
  {
   "cell_type": "code",
   "execution_count": 73,
   "metadata": {
    "id": "s5lcmvAJNg9T"
   },
   "outputs": [],
   "source": [
    "# build gaussian pyramid for video\n",
    "def gaussian_video(video_tensor,levels=10):\n",
    "    for i in range(0,video_tensor.shape[0]):\n",
    "        frame=video_tensor[i]\n",
    "        pyr=build_gaussian_pyramid(frame,level=levels)\n",
    "        gaussian_frame=pyr[-1]\n",
    "        if i==0:\n",
    "            vid_data=np.zeros((video_tensor.shape[0],gaussian_frame.shape[0],gaussian_frame.shape[1],3))\n",
    "        vid_data[i]=gaussian_frame\n",
    "    return vid_data\n"
   ]
  },
  {
   "cell_type": "code",
   "execution_count": 74,
   "metadata": {
    "id": "YeaVrQrVNkAZ"
   },
   "outputs": [],
   "source": [
    "#amplify the video\n",
    "def amplify_video(gaussian_vid,amplification=50):\n",
    "    return gaussian_vid*amplification"
   ]
  },
  {
   "cell_type": "code",
   "execution_count": 75,
   "metadata": {
    "id": "_0zB4EwkNmnm"
   },
   "outputs": [],
   "source": [
    "#reconstract video from original video and gaussian video\n",
    "def reconstract_video(amp_video,origin_video,levels=3):\n",
    "    final_video=np.zeros(origin_video.shape)\n",
    "    for i in range(0,amp_video.shape[0]):\n",
    "        img = amp_video[i]\n",
    "        for x in range(levels):\n",
    "            img=cv2.pyrUp(img)\n",
    "        img=img+origin_video[i]\n",
    "        final_video[i]=img\n",
    "    return final_video"
   ]
  },
  {
   "cell_type": "code",
   "execution_count": 76,
   "metadata": {
    "id": "ieMrkdVBNqWe"
   },
   "outputs": [],
   "source": [
    "#save video to files\n",
    "def save_video(video_tensor):\n",
    "    fourcc = cv2.VideoWriter_fourcc('M','J','P','G')\n",
    "    [height,width]=video_tensor[0].shape[0:2]\n",
    "    writer = cv2.VideoWriter(\"machine_output.avi\", fourcc, 30, (width, height), 1)\n",
    "    for i in range(0,video_tensor.shape[0]):\n",
    "        writer.write(cv2.convertScaleAbs(video_tensor[i]))\n",
    "    writer.release()\n"
   ]
  },
  {
   "cell_type": "code",
   "execution_count": 85,
   "metadata": {
    "id": "J6bNa9CPNuNn"
   },
   "outputs": [],
   "source": [
    "#magnify color\n",
    "def magnify_color(video_name,low,high,levels=3,amplification=150):\n",
    "    t,f=load_video(video_name)\n",
    "    gau_video=gaussian_video(t,levels=levels)\n",
    "    filtered_tensor=temporal_ideal_filter(gau_video,low,high,f)\n",
    "    amplified_video=amplify_video(filtered_tensor,amplification=amplification)\n",
    "    final=reconstract_video(amplified_video,t,levels=3)\n",
    "    save_video(final)\n"
   ]
  },
  {
   "cell_type": "code",
   "execution_count": 86,
   "metadata": {
    "id": "T6z2QNHtNwxk"
   },
   "outputs": [],
   "source": [
    "#build laplacian pyramid for video\n",
    "def laplacian_video(video_tensor,levels=7):\n",
    "    tensor_list=[]\n",
    "    for i in range(0,video_tensor.shape[0]):\n",
    "        frame=video_tensor[i]\n",
    "        pyr=build_laplacian_pyramid(frame,levels=levels)\n",
    "        if i==0:\n",
    "            for k in range(levels):\n",
    "                tensor_list.append(np.zeros((video_tensor.shape[0],pyr[k].shape[0],pyr[k].shape[1],3)))\n",
    "        for n in range(levels):\n",
    "            tensor_list[n][i] = pyr[n]\n",
    "    return tensor_list"
   ]
  },
  {
   "cell_type": "code",
   "execution_count": 87,
   "metadata": {
    "id": "QQsjhfGQNzkn"
   },
   "outputs": [],
   "source": [
    "#butterworth bandpass filter\n",
    "def butter_bandpass_filter(data, lowcut, highcut, fs, order=5):\n",
    "    omega = 0.5 * fs\n",
    "    low = lowcut / omega\n",
    "    high = highcut / omega\n",
    "    b, a = signal.butter(order, [low, high], btype='band')\n",
    "    y = signal.lfilter(b, a, data, axis=0)\n",
    "    return y"
   ]
  },
  {
   "cell_type": "code",
   "execution_count": 88,
   "metadata": {
    "id": "Ysu2ZP6rN2aa"
   },
   "outputs": [],
   "source": [
    "#reconstract video from laplacian pyramid\n",
    "def reconstract_from_tensorlist(filter_tensor_list,levels=3):\n",
    "    final=np.zeros(filter_tensor_list[-1].shape)\n",
    "    for i in range(filter_tensor_list[0].shape[0]):\n",
    "        up = filter_tensor_list[0][i]\n",
    "        for n in range(levels-1):\n",
    "            up=cv2.pyrUp(up)+filter_tensor_list[n + 1][i]\n",
    "        final[i]=up\n",
    "    return final"
   ]
  },
  {
   "cell_type": "code",
   "execution_count": 89,
   "metadata": {
    "id": "xwItMZBbN5sf"
   },
   "outputs": [],
   "source": [
    "#manify motion\n",
    "def magnify_motion(video_name,low,high,levels=3,amplification=80):\n",
    "    t,f=load_video(video_name)\n",
    "    lap_video_list=laplacian_video(t,levels=levels)\n",
    "    filter_tensor_list=[]\n",
    "    for i in range(levels):\n",
    "        filter_tensor=butter_bandpass_filter(lap_video_list[i],low,high,f)\n",
    "        filter_tensor*=amplification\n",
    "        filter_tensor_list.append(filter_tensor)\n",
    "    recon=reconstract_from_tensorlist(filter_tensor_list)\n",
    "    final=t+recon\n",
    "    save_video(final)\n"
   ]
  },
  {
   "cell_type": "code",
   "execution_count": 90,
   "metadata": {
    "id": "84PdyodyN8u0"
   },
   "outputs": [
    {
     "name": "stdout",
     "output_type": "stream",
     "text": [
      "213\n",
      "30\n"
     ]
    }
   ],
   "source": [
    "if __name__==\"__main__\":\n",
    "    magnify_motion(\"machine.mp4\",0.7,1)"
   ]
  },
  {
   "cell_type": "code",
   "execution_count": null,
   "metadata": {},
   "outputs": [],
   "source": []
  }
 ],
 "metadata": {
  "colab": {
   "provenance": []
  },
  "kernelspec": {
   "display_name": "Python 3 (ipykernel)",
   "language": "python",
   "name": "python3"
  },
  "language_info": {
   "codemirror_mode": {
    "name": "ipython",
    "version": 3
   },
   "file_extension": ".py",
   "mimetype": "text/x-python",
   "name": "python",
   "nbconvert_exporter": "python",
   "pygments_lexer": "ipython3",
   "version": "3.8.0"
  }
 },
 "nbformat": 4,
 "nbformat_minor": 1
}
