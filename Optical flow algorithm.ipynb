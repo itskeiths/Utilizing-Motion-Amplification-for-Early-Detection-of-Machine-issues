{
 "cells": [
  {
   "cell_type": "code",
   "execution_count": 9,
   "id": "8da5c2ff",
   "metadata": {},
   "outputs": [
    {
     "name": "stdout",
     "output_type": "stream",
     "text": [
      "Warning: Machine is faulty!\n"
     ]
    }
   ],
   "source": [
    "import cv2\n",
    "import numpy as np\n",
    "\n",
    "# Open video capture\n",
    "cap = cv2.VideoCapture('machine_output.avi')\n",
    "\n",
    "# Define optical flow parameters\n",
    "feature_params = dict(maxCorners=100, qualityLevel=0.3, minDistance=7, blockSize=7)\n",
    "lk_params = dict(winSize=(15, 15), maxLevel=2, criteria=(cv2.TERM_CRITERIA_EPS | cv2.TERM_CRITERIA_COUNT, 10, 0.03))\n",
    "\n",
    "# Initialize previous frame and points\n",
    "ret, prev_frame = cap.read()\n",
    "prev_gray = cv2.cvtColor(prev_frame, cv2.COLOR_BGR2GRAY)\n",
    "prev_points = cv2.goodFeaturesToTrack(prev_gray, mask=None, **feature_params)\n",
    "\n",
    "# Define threshold value\n",
    "threshold = 0.5\n",
    "\n",
    "while True:\n",
    "    # Capture current frame and convert to grayscale\n",
    "    ret, frame = cap.read()\n",
    "    if not ret:\n",
    "        break\n",
    "    gray = cv2.cvtColor(frame, cv2.COLOR_BGR2GRAY)\n",
    "\n",
    "    # Calculate optical flow\n",
    "    curr_points, status, err = cv2.calcOpticalFlowPyrLK(prev_gray, gray, prev_points, None, **lk_params)\n",
    "\n",
    "    # Calculate magnitude of optical flow\n",
    "    mag = cv2.magnitude(curr_points - prev_points, np.zeros_like(curr_points))\n",
    "\n",
    "    # Check if magnitude exceeds threshold\n",
    "    if np.mean(mag) > threshold:\n",
    "        print(\"Warning: Machine is faulty!\")\n",
    "        break\n",
    "\n",
    "    # Update previous frame and points\n",
    "    prev_gray = gray.copy()\n",
    "    prev_points = curr_points\n",
    "\n",
    "cap.release()\n",
    "cv2.destroyAllWindows()\n"
   ]
  },
  {
   "cell_type": "code",
   "execution_count": null,
   "id": "1e070a2d",
   "metadata": {},
   "outputs": [],
   "source": []
  }
 ],
 "metadata": {
  "kernelspec": {
   "display_name": "Python 3 (ipykernel)",
   "language": "python",
   "name": "python3"
  },
  "language_info": {
   "codemirror_mode": {
    "name": "ipython",
    "version": 3
   },
   "file_extension": ".py",
   "mimetype": "text/x-python",
   "name": "python",
   "nbconvert_exporter": "python",
   "pygments_lexer": "ipython3",
   "version": "3.8.0"
  }
 },
 "nbformat": 4,
 "nbformat_minor": 5
}
